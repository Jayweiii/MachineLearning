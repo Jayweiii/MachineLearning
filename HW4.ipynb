{
 "cells": [
  {
   "cell_type": "code",
   "execution_count": 395,
   "metadata": {},
   "outputs": [],
   "source": [
    "import numpy as np\n",
    "from matplotlib import pyplot as plt\n",
    "\n",
    "learnRate=0.0000000000001\n",
    "nIter=20000\n",
    "minF=np.array(np.zeros(nIter))\n",
    "Q=np.array([[0,2,-1],[2,3,1],[-1,1,2.4]])\n",
    "R=np.array([[5,5,-0.4],[5,14,3.4],[-0.4,3.4,7.76]])\n",
    "QR=Q+R\n",
    "\n",
    "def gradientDescent(start,learnRate,nIter):\n",
    "    x = start\n",
    "    for i in range(nIter):\n",
    "        diff = -learnRate*calcGradient(x,0.00000000000000001)\n",
    "        x += diff\n",
    "        minF[i]=function(x)\n",
    "    return x\n",
    "\n",
    "def function(x):\n",
    "    f=np.matmul(x.T,np.matmul(QR,x))/np.matmul(x.T,x)\n",
    "    return f\n",
    "\n",
    "def calcGradient(x,step):\n",
    "    gx=(function(x+np.array([[1],[0],[0]]))-function(x))/step\n",
    "    gx=gx[0]\n",
    "    gy=(function(x+np.array([[0],[1],[0]]))-function(x))/step\n",
    "    gy=gy[0]\n",
    "    gz=(function(x+np.array([[0],[0],[1]]))-function(x))/step\n",
    "    gz=gz[0]\n",
    "    return np.array([gx,gy,gz])"
   ]
  },
  {
   "cell_type": "code",
   "execution_count": 397,
   "metadata": {},
   "outputs": [
    {
     "name": "stdout",
     "output_type": "stream",
     "text": [
      "[[-0.83171935]\n",
      " [ 0.44611852]\n",
      " [-0.33048629]]\n",
      "[[0.69012802]]\n"
     ]
    },
    {
     "data": {
      "text/plain": [
       "[<matplotlib.lines.Line2D at 0x16ccffbbc10>]"
      ]
     },
     "execution_count": 397,
     "metadata": {},
     "output_type": "execute_result"
    },
    {
     "data": {
      "image/png": "[encoded data removed]",
      "text/plain": [
       "<Figure size 432x288 with 1 Axes>"
      ]
     },
     "metadata": {
      "needs_background": "light"
     },
     "output_type": "display_data"
    }
   ],
   "source": [
    "start=np.random.rand(3,1)*10-5\n",
    "xopt=gradientDescent(start,learnRate,nIter)\n",
    "print(xopt/np.linalg.norm(xopt))\n",
    "print(function(xopt))\n",
    "plt.plot(minF,'.',markersize=5)"
   ]
  }
 ],
 "metadata": {
  "kernelspec": {
   "display_name": "Python 3",
   "language": "python",
   "name": "python3"
  },
  "language_info": {
   "codemirror_mode": {
    "name": "ipython",
    "version": 3
   },
   "file_extension": ".py",
   "mimetype": "text/x-python",
   "name": "python",
   "nbconvert_exporter": "python",
   "pygments_lexer": "ipython3",
   "version": "3.8.5"
  }
 },
 "nbformat": 4,
 "nbformat_minor": 4
}
