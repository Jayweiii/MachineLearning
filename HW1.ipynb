{
 "cells": [
  {
   "cell_type": "code",
   "execution_count": 71,
   "id": "aa369332-1d77-4863-ac5f-fa7f3a84ab1e",
   "metadata": {},
   "outputs": [
    {
     "name": "stdout",
     "output_type": "stream",
     "text": [
      "A:  [[0.10011864 0.60521171 0.90568044]\n",
      " [0.84903695 0.6471524  0.57856951]\n",
      " [0.3640918  0.51804673 0.58864942]]\n",
      "eigenvalue:  [ 1.71456404 -0.34833548 -0.0303081 ]\n",
      "eigenvector:  [[-0.53331514 -0.73154423  0.3080066 ]\n",
      " [-0.68969194  0.67590258 -0.81092066]\n",
      " [-0.48979586 -0.08943566  0.49753353]]\n"
     ]
    }
   ],
   "source": [
    "import numpy as np\n",
    "from numpy.linalg import eig\n",
    "A=np.random.rand(3,3)\n",
    "np.matmul(A,np.transpose(A));\n",
    "print('A: ',A)\n",
    "w,v=eig(A)\n",
    "print('eigenvalue: ', w)\n",
    "print('eigenvector: ', v)"
   ]
  },
  {
   "cell_type": "code",
   "execution_count": 7,
   "id": "a240722c-6957-49b3-bf87-240d56d3ce3f",
   "metadata": {},
   "outputs": [
    {
     "data": {
      "text/plain": [
       "array([[0.28083391, 0.96336219, 0.69400319],\n",
       "       [0.69730668, 0.73899175, 0.61965233],\n",
       "       [0.94503658, 0.52857599, 0.46222961]])"
      ]
     },
     "execution_count": 7,
     "metadata": {},
     "output_type": "execute_result"
    }
   ],
   "source": [
    "\n"
   ]
  }
 ],
 "metadata": {
  "kernelspec": {
   "display_name": "Python 3 (ipykernel)",
   "language": "python",
   "name": "python3"
  },
  "language_info": {
   "codemirror_mode": {
    "name": "ipython",
    "version": 3
   },
   "file_extension": ".py",
   "mimetype": "text/x-python",
   "name": "python",
   "nbconvert_exporter": "python",
   "pygments_lexer": "ipython3",
   "version": "3.8.13"
  }
 },
 "nbformat": 4,
 "nbformat_minor": 5
}
